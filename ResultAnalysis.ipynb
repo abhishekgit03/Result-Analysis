{
  "nbformat": 4,
  "nbformat_minor": 0,
  "metadata": {
    "colab": {
      "provenance": [],
      "mount_file_id": "194E-ocsMadwtqFAqvdgllOWLUWx9_ZNX",
      "authorship_tag": "ABX9TyPYbSrKPIlpgtan7kcnQcC7",
      "include_colab_link": true
    },
    "kernelspec": {
      "name": "python3",
      "display_name": "Python 3"
    },
    "language_info": {
      "name": "python"
    }
  },
  "cells": [
    {
      "cell_type": "markdown",
      "metadata": {
        "id": "view-in-github",
        "colab_type": "text"
      },
      "source": [
        "<a href=\"https://colab.research.google.com/github/abhishekgit03/Result-Analysis/blob/main/ResultAnalysis.ipynb\" target=\"_parent\"><img src=\"https://colab.research.google.com/assets/colab-badge.svg\" alt=\"Open In Colab\"/></a>"
      ]
    },
    {
      "cell_type": "code",
      "source": [
        "import pandas as pd"
      ],
      "metadata": {
        "id": "N114XGRHd2RF"
      },
      "execution_count": 1,
      "outputs": []
    },
    {
      "cell_type": "code",
      "execution_count": 2,
      "metadata": {
        "id": "SrELPo0sdZbu"
      },
      "outputs": [],
      "source": [
        "df=pd.read_csv(\"/content/drive/MyDrive/MLDatasets/Results.csv\")"
      ]
    },
    {
      "cell_type": "code",
      "source": [
        "df.head()"
      ],
      "metadata": {
        "colab": {
          "base_uri": "https://localhost:8080/",
          "height": 664
        },
        "id": "uWKafpI-d6MV",
        "outputId": "989e8c2e-c3f0-46be-abcd-d8bb96086add"
      },
      "execution_count": 3,
      "outputs": [
        {
          "output_type": "execute_result",
          "data": {
            "text/plain": [
              "        ROLLNO              NAME                                 College Name  \\\n",
              "0  12005518004   Suranjana Dutta  DR. B. C. ROY ENGINEERING COLLEGE, DURGAPUR   \n",
              "1  12005519001       RITIKA SHAW  DR. B. C. ROY ENGINEERING COLLEGE, DURGAPUR   \n",
              "2  12005519002      SUMAN KUMARI  DR. B. C. ROY ENGINEERING COLLEGE, DURGAPUR   \n",
              "3  12005519003       SUJAL KUMAR  DR. B. C. ROY ENGINEERING COLLEGE, DURGAPUR   \n",
              "4  12005519004  MD SHAHBAZ AHMAD  DR. B. C. ROY ENGINEERING COLLEGE, DURGAPUR   \n",
              "\n",
              "                                            Semester  \\\n",
              "0  FIRST YEAR FIRST SEMESTER EXAMINATION OF 2019-...   \n",
              "1  FIRST YEAR FIRST SEMESTER EXAMINATION OF 2019-...   \n",
              "2  FIRST YEAR FIRST SEMESTER EXAMINATION OF 2019-...   \n",
              "3  FIRST YEAR FIRST SEMESTER EXAMINATION OF 2019-...   \n",
              "4  FIRST YEAR FIRST SEMESTER EXAMINATION OF 2019-...   \n",
              "\n",
              "                                              Degree  BSCH101   BSM102  \\\n",
              "0  Bachelor of Technology in Applied Electronics ...  D(20.0)  D(20.0)   \n",
              "1  Bachelor of Technology in Applied Electronics ...  D(20.0)  D(20.0)   \n",
              "2  Bachelor of Technology in Applied Electronics ...  D(20.0)  D(20.0)   \n",
              "3  Bachelor of Technology in Applied Electronics ...   F(8.0)   F(8.0)   \n",
              "4  Bachelor of Technology in Applied Electronics ...   F(8.0)   F(8.0)   \n",
              "\n",
              "   ESEE101  BSCH191 ESEE191  ... Unnamed: 14 Unnamed: 15 Unnamed: 16  \\\n",
              "0  D(20.0)  B(10.5)  E(9.0)  ...         NaN         NaN         NaN   \n",
              "1  D(20.0)  A(12.0)  E(9.0)  ...         NaN         NaN         NaN   \n",
              "2  D(20.0)  A(12.0)  A(8.0)  ...         NaN         NaN         NaN   \n",
              "3  C(24.0)  A(12.0)  E(9.0)  ...         NaN         NaN         NaN   \n",
              "4  D(20.0)  B(10.5)  E(9.0)  ...         NaN         NaN         NaN   \n",
              "\n",
              "  Unnamed: 17 Unnamed: 18  Unnamed: 19  Unnamed: 20  Unnamed: 21  Unnamed: 22  \\\n",
              "0         NaN         NaN          NaN          NaN          NaN          NaN   \n",
              "1         NaN         NaN          NaN          NaN          NaN          NaN   \n",
              "2         NaN         NaN          NaN          NaN          NaN          NaN   \n",
              "3         NaN         NaN          NaN          NaN          NaN          NaN   \n",
              "4         NaN         NaN          NaN          NaN          NaN          NaN   \n",
              "\n",
              "   SGPA  \n",
              "0  5.57  \n",
              "1  6.17  \n",
              "2  5.94  \n",
              "3   NaN  \n",
              "4   NaN  \n",
              "\n",
              "[5 rows x 24 columns]"
            ],
            "text/html": [
              "\n",
              "  <div id=\"df-7b89bcc9-cbd6-473b-9f1b-54b748ea0987\">\n",
              "    <div class=\"colab-df-container\">\n",
              "      <div>\n",
              "<style scoped>\n",
              "    .dataframe tbody tr th:only-of-type {\n",
              "        vertical-align: middle;\n",
              "    }\n",
              "\n",
              "    .dataframe tbody tr th {\n",
              "        vertical-align: top;\n",
              "    }\n",
              "\n",
              "    .dataframe thead th {\n",
              "        text-align: right;\n",
              "    }\n",
              "</style>\n",
              "<table border=\"1\" class=\"dataframe\">\n",
              "  <thead>\n",
              "    <tr style=\"text-align: right;\">\n",
              "      <th></th>\n",
              "      <th>ROLLNO</th>\n",
              "      <th>NAME</th>\n",
              "      <th>College Name</th>\n",
              "      <th>Semester</th>\n",
              "      <th>Degree</th>\n",
              "      <th>BSCH101</th>\n",
              "      <th>BSM102</th>\n",
              "      <th>ESEE101</th>\n",
              "      <th>BSCH191</th>\n",
              "      <th>ESEE191</th>\n",
              "      <th>...</th>\n",
              "      <th>Unnamed: 14</th>\n",
              "      <th>Unnamed: 15</th>\n",
              "      <th>Unnamed: 16</th>\n",
              "      <th>Unnamed: 17</th>\n",
              "      <th>Unnamed: 18</th>\n",
              "      <th>Unnamed: 19</th>\n",
              "      <th>Unnamed: 20</th>\n",
              "      <th>Unnamed: 21</th>\n",
              "      <th>Unnamed: 22</th>\n",
              "      <th>SGPA</th>\n",
              "    </tr>\n",
              "  </thead>\n",
              "  <tbody>\n",
              "    <tr>\n",
              "      <th>0</th>\n",
              "      <td>12005518004</td>\n",
              "      <td>Suranjana Dutta</td>\n",
              "      <td>DR. B. C. ROY ENGINEERING COLLEGE, DURGAPUR</td>\n",
              "      <td>FIRST YEAR FIRST SEMESTER EXAMINATION OF 2019-...</td>\n",
              "      <td>Bachelor of Technology in Applied Electronics ...</td>\n",
              "      <td>D(20.0)</td>\n",
              "      <td>D(20.0)</td>\n",
              "      <td>D(20.0)</td>\n",
              "      <td>B(10.5)</td>\n",
              "      <td>E(9.0)</td>\n",
              "      <td>...</td>\n",
              "      <td>NaN</td>\n",
              "      <td>NaN</td>\n",
              "      <td>NaN</td>\n",
              "      <td>NaN</td>\n",
              "      <td>NaN</td>\n",
              "      <td>NaN</td>\n",
              "      <td>NaN</td>\n",
              "      <td>NaN</td>\n",
              "      <td>NaN</td>\n",
              "      <td>5.57</td>\n",
              "    </tr>\n",
              "    <tr>\n",
              "      <th>1</th>\n",
              "      <td>12005519001</td>\n",
              "      <td>RITIKA SHAW</td>\n",
              "      <td>DR. B. C. ROY ENGINEERING COLLEGE, DURGAPUR</td>\n",
              "      <td>FIRST YEAR FIRST SEMESTER EXAMINATION OF 2019-...</td>\n",
              "      <td>Bachelor of Technology in Applied Electronics ...</td>\n",
              "      <td>D(20.0)</td>\n",
              "      <td>D(20.0)</td>\n",
              "      <td>D(20.0)</td>\n",
              "      <td>A(12.0)</td>\n",
              "      <td>E(9.0)</td>\n",
              "      <td>...</td>\n",
              "      <td>NaN</td>\n",
              "      <td>NaN</td>\n",
              "      <td>NaN</td>\n",
              "      <td>NaN</td>\n",
              "      <td>NaN</td>\n",
              "      <td>NaN</td>\n",
              "      <td>NaN</td>\n",
              "      <td>NaN</td>\n",
              "      <td>NaN</td>\n",
              "      <td>6.17</td>\n",
              "    </tr>\n",
              "    <tr>\n",
              "      <th>2</th>\n",
              "      <td>12005519002</td>\n",
              "      <td>SUMAN KUMARI</td>\n",
              "      <td>DR. B. C. ROY ENGINEERING COLLEGE, DURGAPUR</td>\n",
              "      <td>FIRST YEAR FIRST SEMESTER EXAMINATION OF 2019-...</td>\n",
              "      <td>Bachelor of Technology in Applied Electronics ...</td>\n",
              "      <td>D(20.0)</td>\n",
              "      <td>D(20.0)</td>\n",
              "      <td>D(20.0)</td>\n",
              "      <td>A(12.0)</td>\n",
              "      <td>A(8.0)</td>\n",
              "      <td>...</td>\n",
              "      <td>NaN</td>\n",
              "      <td>NaN</td>\n",
              "      <td>NaN</td>\n",
              "      <td>NaN</td>\n",
              "      <td>NaN</td>\n",
              "      <td>NaN</td>\n",
              "      <td>NaN</td>\n",
              "      <td>NaN</td>\n",
              "      <td>NaN</td>\n",
              "      <td>5.94</td>\n",
              "    </tr>\n",
              "    <tr>\n",
              "      <th>3</th>\n",
              "      <td>12005519003</td>\n",
              "      <td>SUJAL KUMAR</td>\n",
              "      <td>DR. B. C. ROY ENGINEERING COLLEGE, DURGAPUR</td>\n",
              "      <td>FIRST YEAR FIRST SEMESTER EXAMINATION OF 2019-...</td>\n",
              "      <td>Bachelor of Technology in Applied Electronics ...</td>\n",
              "      <td>F(8.0)</td>\n",
              "      <td>F(8.0)</td>\n",
              "      <td>C(24.0)</td>\n",
              "      <td>A(12.0)</td>\n",
              "      <td>E(9.0)</td>\n",
              "      <td>...</td>\n",
              "      <td>NaN</td>\n",
              "      <td>NaN</td>\n",
              "      <td>NaN</td>\n",
              "      <td>NaN</td>\n",
              "      <td>NaN</td>\n",
              "      <td>NaN</td>\n",
              "      <td>NaN</td>\n",
              "      <td>NaN</td>\n",
              "      <td>NaN</td>\n",
              "      <td>NaN</td>\n",
              "    </tr>\n",
              "    <tr>\n",
              "      <th>4</th>\n",
              "      <td>12005519004</td>\n",
              "      <td>MD SHAHBAZ AHMAD</td>\n",
              "      <td>DR. B. C. ROY ENGINEERING COLLEGE, DURGAPUR</td>\n",
              "      <td>FIRST YEAR FIRST SEMESTER EXAMINATION OF 2019-...</td>\n",
              "      <td>Bachelor of Technology in Applied Electronics ...</td>\n",
              "      <td>F(8.0)</td>\n",
              "      <td>F(8.0)</td>\n",
              "      <td>D(20.0)</td>\n",
              "      <td>B(10.5)</td>\n",
              "      <td>E(9.0)</td>\n",
              "      <td>...</td>\n",
              "      <td>NaN</td>\n",
              "      <td>NaN</td>\n",
              "      <td>NaN</td>\n",
              "      <td>NaN</td>\n",
              "      <td>NaN</td>\n",
              "      <td>NaN</td>\n",
              "      <td>NaN</td>\n",
              "      <td>NaN</td>\n",
              "      <td>NaN</td>\n",
              "      <td>NaN</td>\n",
              "    </tr>\n",
              "  </tbody>\n",
              "</table>\n",
              "<p>5 rows × 24 columns</p>\n",
              "</div>\n",
              "      <button class=\"colab-df-convert\" onclick=\"convertToInteractive('df-7b89bcc9-cbd6-473b-9f1b-54b748ea0987')\"\n",
              "              title=\"Convert this dataframe to an interactive table.\"\n",
              "              style=\"display:none;\">\n",
              "        \n",
              "  <svg xmlns=\"http://www.w3.org/2000/svg\" height=\"24px\"viewBox=\"0 0 24 24\"\n",
              "       width=\"24px\">\n",
              "    <path d=\"M0 0h24v24H0V0z\" fill=\"none\"/>\n",
              "    <path d=\"M18.56 5.44l.94 2.06.94-2.06 2.06-.94-2.06-.94-.94-2.06-.94 2.06-2.06.94zm-11 1L8.5 8.5l.94-2.06 2.06-.94-2.06-.94L8.5 2.5l-.94 2.06-2.06.94zm10 10l.94 2.06.94-2.06 2.06-.94-2.06-.94-.94-2.06-.94 2.06-2.06.94z\"/><path d=\"M17.41 7.96l-1.37-1.37c-.4-.4-.92-.59-1.43-.59-.52 0-1.04.2-1.43.59L10.3 9.45l-7.72 7.72c-.78.78-.78 2.05 0 2.83L4 21.41c.39.39.9.59 1.41.59.51 0 1.02-.2 1.41-.59l7.78-7.78 2.81-2.81c.8-.78.8-2.07 0-2.86zM5.41 20L4 18.59l7.72-7.72 1.47 1.35L5.41 20z\"/>\n",
              "  </svg>\n",
              "      </button>\n",
              "      \n",
              "  <style>\n",
              "    .colab-df-container {\n",
              "      display:flex;\n",
              "      flex-wrap:wrap;\n",
              "      gap: 12px;\n",
              "    }\n",
              "\n",
              "    .colab-df-convert {\n",
              "      background-color: #E8F0FE;\n",
              "      border: none;\n",
              "      border-radius: 50%;\n",
              "      cursor: pointer;\n",
              "      display: none;\n",
              "      fill: #1967D2;\n",
              "      height: 32px;\n",
              "      padding: 0 0 0 0;\n",
              "      width: 32px;\n",
              "    }\n",
              "\n",
              "    .colab-df-convert:hover {\n",
              "      background-color: #E2EBFA;\n",
              "      box-shadow: 0px 1px 2px rgba(60, 64, 67, 0.3), 0px 1px 3px 1px rgba(60, 64, 67, 0.15);\n",
              "      fill: #174EA6;\n",
              "    }\n",
              "\n",
              "    [theme=dark] .colab-df-convert {\n",
              "      background-color: #3B4455;\n",
              "      fill: #D2E3FC;\n",
              "    }\n",
              "\n",
              "    [theme=dark] .colab-df-convert:hover {\n",
              "      background-color: #434B5C;\n",
              "      box-shadow: 0px 1px 3px 1px rgba(0, 0, 0, 0.15);\n",
              "      filter: drop-shadow(0px 1px 2px rgba(0, 0, 0, 0.3));\n",
              "      fill: #FFFFFF;\n",
              "    }\n",
              "  </style>\n",
              "\n",
              "      <script>\n",
              "        const buttonEl =\n",
              "          document.querySelector('#df-7b89bcc9-cbd6-473b-9f1b-54b748ea0987 button.colab-df-convert');\n",
              "        buttonEl.style.display =\n",
              "          google.colab.kernel.accessAllowed ? 'block' : 'none';\n",
              "\n",
              "        async function convertToInteractive(key) {\n",
              "          const element = document.querySelector('#df-7b89bcc9-cbd6-473b-9f1b-54b748ea0987');\n",
              "          const dataTable =\n",
              "            await google.colab.kernel.invokeFunction('convertToInteractive',\n",
              "                                                     [key], {});\n",
              "          if (!dataTable) return;\n",
              "\n",
              "          const docLinkHtml = 'Like what you see? Visit the ' +\n",
              "            '<a target=\"_blank\" href=https://colab.research.google.com/notebooks/data_table.ipynb>data table notebook</a>'\n",
              "            + ' to learn more about interactive tables.';\n",
              "          element.innerHTML = '';\n",
              "          dataTable['output_type'] = 'display_data';\n",
              "          await google.colab.output.renderOutput(dataTable, element);\n",
              "          const docLink = document.createElement('div');\n",
              "          docLink.innerHTML = docLinkHtml;\n",
              "          element.appendChild(docLink);\n",
              "        }\n",
              "      </script>\n",
              "    </div>\n",
              "  </div>\n",
              "  "
            ]
          },
          "metadata": {},
          "execution_count": 3
        }
      ]
    },
    {
      "cell_type": "code",
      "source": [
        "df=df.dropna(axis=\"columns\", how=\"all\")\n",
        "df.head(10)"
      ],
      "metadata": {
        "colab": {
          "base_uri": "https://localhost:8080/",
          "height": 771
        },
        "id": "NvGnj43TeYGs",
        "outputId": "e6740207-5d2c-4ba8-92d9-78ad71b0e4a4"
      },
      "execution_count": 4,
      "outputs": [
        {
          "output_type": "execute_result",
          "data": {
            "text/plain": [
              "        ROLLNO              NAME                                 College Name  \\\n",
              "0  12005518004   Suranjana Dutta  DR. B. C. ROY ENGINEERING COLLEGE, DURGAPUR   \n",
              "1  12005519001       RITIKA SHAW  DR. B. C. ROY ENGINEERING COLLEGE, DURGAPUR   \n",
              "2  12005519002      SUMAN KUMARI  DR. B. C. ROY ENGINEERING COLLEGE, DURGAPUR   \n",
              "3  12005519003       SUJAL KUMAR  DR. B. C. ROY ENGINEERING COLLEGE, DURGAPUR   \n",
              "4  12005519004  MD SHAHBAZ AHMAD  DR. B. C. ROY ENGINEERING COLLEGE, DURGAPUR   \n",
              "5  12005519005     MD AZHARUDDIN  DR. B. C. ROY ENGINEERING COLLEGE, DURGAPUR   \n",
              "6  12005519006       JOYDEEP KAR  DR. B. C. ROY ENGINEERING COLLEGE, DURGAPUR   \n",
              "7  12005519007         MD.  AMIR  DR. B. C. ROY ENGINEERING COLLEGE, DURGAPUR   \n",
              "8  12005519008      SOURAJIT BAG  DR. B. C. ROY ENGINEERING COLLEGE, DURGAPUR   \n",
              "9  12005519009      MD KASIF ALI  DR. B. C. ROY ENGINEERING COLLEGE, DURGAPUR   \n",
              "\n",
              "                                            Semester  \\\n",
              "0  FIRST YEAR FIRST SEMESTER EXAMINATION OF 2019-...   \n",
              "1  FIRST YEAR FIRST SEMESTER EXAMINATION OF 2019-...   \n",
              "2  FIRST YEAR FIRST SEMESTER EXAMINATION OF 2019-...   \n",
              "3  FIRST YEAR FIRST SEMESTER EXAMINATION OF 2019-...   \n",
              "4  FIRST YEAR FIRST SEMESTER EXAMINATION OF 2019-...   \n",
              "5  FIRST YEAR FIRST SEMESTER EXAMINATION OF 2019-...   \n",
              "6  FIRST YEAR FIRST SEMESTER EXAMINATION OF 2019-...   \n",
              "7  FIRST YEAR FIRST SEMESTER EXAMINATION OF 2019-...   \n",
              "8  FIRST YEAR FIRST SEMESTER EXAMINATION OF 2019-...   \n",
              "9  FIRST YEAR FIRST SEMESTER EXAMINATION OF 2019-...   \n",
              "\n",
              "                                              Degree  BSCH101   BSM102  \\\n",
              "0  Bachelor of Technology in Applied Electronics ...  D(20.0)  D(20.0)   \n",
              "1  Bachelor of Technology in Applied Electronics ...  D(20.0)  D(20.0)   \n",
              "2  Bachelor of Technology in Applied Electronics ...  D(20.0)  D(20.0)   \n",
              "3  Bachelor of Technology in Applied Electronics ...   F(8.0)   F(8.0)   \n",
              "4  Bachelor of Technology in Applied Electronics ...   F(8.0)   F(8.0)   \n",
              "5  Bachelor of Technology in Applied Electronics ...   F(8.0)  C(24.0)   \n",
              "6  Bachelor of Technology in Applied Electronics ...  D(20.0)  C(24.0)   \n",
              "7  Bachelor of Technology in Applied Electronics ...  D(20.0)   F(8.0)   \n",
              "8  Bachelor of Technology in Applied Electronics ...   F(8.0)   F(8.0)   \n",
              "9  Bachelor of Technology in Applied Electronics ...  D(20.0)  C(24.0)   \n",
              "\n",
              "   ESEE101  BSCH191  ESEE191  ESME191 Unnamed: 11 Unnamed: 12 Unnamed: 13  \\\n",
              "0  D(20.0)  B(10.5)   E(9.0)  C(18.0)         NaN         NaN         NaN   \n",
              "1  D(20.0)  A(12.0)   E(9.0)  E(27.0)         NaN         NaN         NaN   \n",
              "2  D(20.0)  A(12.0)   A(8.0)  A(24.0)         NaN         NaN         NaN   \n",
              "3  C(24.0)  A(12.0)   E(9.0)  A(24.0)         NaN         NaN         NaN   \n",
              "4  D(20.0)  B(10.5)   E(9.0)  A(24.0)         NaN         NaN         NaN   \n",
              "5  D(20.0)  A(12.0)   E(9.0)  A(24.0)         NaN         NaN         NaN   \n",
              "6  D(20.0)  A(12.0)  O(10.0)  A(24.0)         NaN         NaN         NaN   \n",
              "7  C(24.0)  A(12.0)  O(10.0)  A(24.0)         NaN         NaN         NaN   \n",
              "8   F(8.0)  A(12.0)   E(9.0)  B(21.0)         NaN         NaN         NaN   \n",
              "9  D(20.0)  A(12.0)   E(9.0)  A(24.0)         NaN         NaN         NaN   \n",
              "\n",
              "  Unnamed: 14  SGPA  \n",
              "0         NaN  5.57  \n",
              "1         NaN  6.17  \n",
              "2         NaN  5.94  \n",
              "3         NaN   NaN  \n",
              "4         NaN   NaN  \n",
              "5         NaN   NaN  \n",
              "6         NaN  6.29  \n",
              "7         NaN   NaN  \n",
              "8         NaN   NaN  \n",
              "9         NaN  6.23  "
            ],
            "text/html": [
              "\n",
              "  <div id=\"df-47a726bf-9c86-4860-a107-6a6950788aca\">\n",
              "    <div class=\"colab-df-container\">\n",
              "      <div>\n",
              "<style scoped>\n",
              "    .dataframe tbody tr th:only-of-type {\n",
              "        vertical-align: middle;\n",
              "    }\n",
              "\n",
              "    .dataframe tbody tr th {\n",
              "        vertical-align: top;\n",
              "    }\n",
              "\n",
              "    .dataframe thead th {\n",
              "        text-align: right;\n",
              "    }\n",
              "</style>\n",
              "<table border=\"1\" class=\"dataframe\">\n",
              "  <thead>\n",
              "    <tr style=\"text-align: right;\">\n",
              "      <th></th>\n",
              "      <th>ROLLNO</th>\n",
              "      <th>NAME</th>\n",
              "      <th>College Name</th>\n",
              "      <th>Semester</th>\n",
              "      <th>Degree</th>\n",
              "      <th>BSCH101</th>\n",
              "      <th>BSM102</th>\n",
              "      <th>ESEE101</th>\n",
              "      <th>BSCH191</th>\n",
              "      <th>ESEE191</th>\n",
              "      <th>ESME191</th>\n",
              "      <th>Unnamed: 11</th>\n",
              "      <th>Unnamed: 12</th>\n",
              "      <th>Unnamed: 13</th>\n",
              "      <th>Unnamed: 14</th>\n",
              "      <th>SGPA</th>\n",
              "    </tr>\n",
              "  </thead>\n",
              "  <tbody>\n",
              "    <tr>\n",
              "      <th>0</th>\n",
              "      <td>12005518004</td>\n",
              "      <td>Suranjana Dutta</td>\n",
              "      <td>DR. B. C. ROY ENGINEERING COLLEGE, DURGAPUR</td>\n",
              "      <td>FIRST YEAR FIRST SEMESTER EXAMINATION OF 2019-...</td>\n",
              "      <td>Bachelor of Technology in Applied Electronics ...</td>\n",
              "      <td>D(20.0)</td>\n",
              "      <td>D(20.0)</td>\n",
              "      <td>D(20.0)</td>\n",
              "      <td>B(10.5)</td>\n",
              "      <td>E(9.0)</td>\n",
              "      <td>C(18.0)</td>\n",
              "      <td>NaN</td>\n",
              "      <td>NaN</td>\n",
              "      <td>NaN</td>\n",
              "      <td>NaN</td>\n",
              "      <td>5.57</td>\n",
              "    </tr>\n",
              "    <tr>\n",
              "      <th>1</th>\n",
              "      <td>12005519001</td>\n",
              "      <td>RITIKA SHAW</td>\n",
              "      <td>DR. B. C. ROY ENGINEERING COLLEGE, DURGAPUR</td>\n",
              "      <td>FIRST YEAR FIRST SEMESTER EXAMINATION OF 2019-...</td>\n",
              "      <td>Bachelor of Technology in Applied Electronics ...</td>\n",
              "      <td>D(20.0)</td>\n",
              "      <td>D(20.0)</td>\n",
              "      <td>D(20.0)</td>\n",
              "      <td>A(12.0)</td>\n",
              "      <td>E(9.0)</td>\n",
              "      <td>E(27.0)</td>\n",
              "      <td>NaN</td>\n",
              "      <td>NaN</td>\n",
              "      <td>NaN</td>\n",
              "      <td>NaN</td>\n",
              "      <td>6.17</td>\n",
              "    </tr>\n",
              "    <tr>\n",
              "      <th>2</th>\n",
              "      <td>12005519002</td>\n",
              "      <td>SUMAN KUMARI</td>\n",
              "      <td>DR. B. C. ROY ENGINEERING COLLEGE, DURGAPUR</td>\n",
              "      <td>FIRST YEAR FIRST SEMESTER EXAMINATION OF 2019-...</td>\n",
              "      <td>Bachelor of Technology in Applied Electronics ...</td>\n",
              "      <td>D(20.0)</td>\n",
              "      <td>D(20.0)</td>\n",
              "      <td>D(20.0)</td>\n",
              "      <td>A(12.0)</td>\n",
              "      <td>A(8.0)</td>\n",
              "      <td>A(24.0)</td>\n",
              "      <td>NaN</td>\n",
              "      <td>NaN</td>\n",
              "      <td>NaN</td>\n",
              "      <td>NaN</td>\n",
              "      <td>5.94</td>\n",
              "    </tr>\n",
              "    <tr>\n",
              "      <th>3</th>\n",
              "      <td>12005519003</td>\n",
              "      <td>SUJAL KUMAR</td>\n",
              "      <td>DR. B. C. ROY ENGINEERING COLLEGE, DURGAPUR</td>\n",
              "      <td>FIRST YEAR FIRST SEMESTER EXAMINATION OF 2019-...</td>\n",
              "      <td>Bachelor of Technology in Applied Electronics ...</td>\n",
              "      <td>F(8.0)</td>\n",
              "      <td>F(8.0)</td>\n",
              "      <td>C(24.0)</td>\n",
              "      <td>A(12.0)</td>\n",
              "      <td>E(9.0)</td>\n",
              "      <td>A(24.0)</td>\n",
              "      <td>NaN</td>\n",
              "      <td>NaN</td>\n",
              "      <td>NaN</td>\n",
              "      <td>NaN</td>\n",
              "      <td>NaN</td>\n",
              "    </tr>\n",
              "    <tr>\n",
              "      <th>4</th>\n",
              "      <td>12005519004</td>\n",
              "      <td>MD SHAHBAZ AHMAD</td>\n",
              "      <td>DR. B. C. ROY ENGINEERING COLLEGE, DURGAPUR</td>\n",
              "      <td>FIRST YEAR FIRST SEMESTER EXAMINATION OF 2019-...</td>\n",
              "      <td>Bachelor of Technology in Applied Electronics ...</td>\n",
              "      <td>F(8.0)</td>\n",
              "      <td>F(8.0)</td>\n",
              "      <td>D(20.0)</td>\n",
              "      <td>B(10.5)</td>\n",
              "      <td>E(9.0)</td>\n",
              "      <td>A(24.0)</td>\n",
              "      <td>NaN</td>\n",
              "      <td>NaN</td>\n",
              "      <td>NaN</td>\n",
              "      <td>NaN</td>\n",
              "      <td>NaN</td>\n",
              "    </tr>\n",
              "    <tr>\n",
              "      <th>5</th>\n",
              "      <td>12005519005</td>\n",
              "      <td>MD AZHARUDDIN</td>\n",
              "      <td>DR. B. C. ROY ENGINEERING COLLEGE, DURGAPUR</td>\n",
              "      <td>FIRST YEAR FIRST SEMESTER EXAMINATION OF 2019-...</td>\n",
              "      <td>Bachelor of Technology in Applied Electronics ...</td>\n",
              "      <td>F(8.0)</td>\n",
              "      <td>C(24.0)</td>\n",
              "      <td>D(20.0)</td>\n",
              "      <td>A(12.0)</td>\n",
              "      <td>E(9.0)</td>\n",
              "      <td>A(24.0)</td>\n",
              "      <td>NaN</td>\n",
              "      <td>NaN</td>\n",
              "      <td>NaN</td>\n",
              "      <td>NaN</td>\n",
              "      <td>NaN</td>\n",
              "    </tr>\n",
              "    <tr>\n",
              "      <th>6</th>\n",
              "      <td>12005519006</td>\n",
              "      <td>JOYDEEP KAR</td>\n",
              "      <td>DR. B. C. ROY ENGINEERING COLLEGE, DURGAPUR</td>\n",
              "      <td>FIRST YEAR FIRST SEMESTER EXAMINATION OF 2019-...</td>\n",
              "      <td>Bachelor of Technology in Applied Electronics ...</td>\n",
              "      <td>D(20.0)</td>\n",
              "      <td>C(24.0)</td>\n",
              "      <td>D(20.0)</td>\n",
              "      <td>A(12.0)</td>\n",
              "      <td>O(10.0)</td>\n",
              "      <td>A(24.0)</td>\n",
              "      <td>NaN</td>\n",
              "      <td>NaN</td>\n",
              "      <td>NaN</td>\n",
              "      <td>NaN</td>\n",
              "      <td>6.29</td>\n",
              "    </tr>\n",
              "    <tr>\n",
              "      <th>7</th>\n",
              "      <td>12005519007</td>\n",
              "      <td>MD.  AMIR</td>\n",
              "      <td>DR. B. C. ROY ENGINEERING COLLEGE, DURGAPUR</td>\n",
              "      <td>FIRST YEAR FIRST SEMESTER EXAMINATION OF 2019-...</td>\n",
              "      <td>Bachelor of Technology in Applied Electronics ...</td>\n",
              "      <td>D(20.0)</td>\n",
              "      <td>F(8.0)</td>\n",
              "      <td>C(24.0)</td>\n",
              "      <td>A(12.0)</td>\n",
              "      <td>O(10.0)</td>\n",
              "      <td>A(24.0)</td>\n",
              "      <td>NaN</td>\n",
              "      <td>NaN</td>\n",
              "      <td>NaN</td>\n",
              "      <td>NaN</td>\n",
              "      <td>NaN</td>\n",
              "    </tr>\n",
              "    <tr>\n",
              "      <th>8</th>\n",
              "      <td>12005519008</td>\n",
              "      <td>SOURAJIT BAG</td>\n",
              "      <td>DR. B. C. ROY ENGINEERING COLLEGE, DURGAPUR</td>\n",
              "      <td>FIRST YEAR FIRST SEMESTER EXAMINATION OF 2019-...</td>\n",
              "      <td>Bachelor of Technology in Applied Electronics ...</td>\n",
              "      <td>F(8.0)</td>\n",
              "      <td>F(8.0)</td>\n",
              "      <td>F(8.0)</td>\n",
              "      <td>A(12.0)</td>\n",
              "      <td>E(9.0)</td>\n",
              "      <td>B(21.0)</td>\n",
              "      <td>NaN</td>\n",
              "      <td>NaN</td>\n",
              "      <td>NaN</td>\n",
              "      <td>NaN</td>\n",
              "      <td>NaN</td>\n",
              "    </tr>\n",
              "    <tr>\n",
              "      <th>9</th>\n",
              "      <td>12005519009</td>\n",
              "      <td>MD KASIF ALI</td>\n",
              "      <td>DR. B. C. ROY ENGINEERING COLLEGE, DURGAPUR</td>\n",
              "      <td>FIRST YEAR FIRST SEMESTER EXAMINATION OF 2019-...</td>\n",
              "      <td>Bachelor of Technology in Applied Electronics ...</td>\n",
              "      <td>D(20.0)</td>\n",
              "      <td>C(24.0)</td>\n",
              "      <td>D(20.0)</td>\n",
              "      <td>A(12.0)</td>\n",
              "      <td>E(9.0)</td>\n",
              "      <td>A(24.0)</td>\n",
              "      <td>NaN</td>\n",
              "      <td>NaN</td>\n",
              "      <td>NaN</td>\n",
              "      <td>NaN</td>\n",
              "      <td>6.23</td>\n",
              "    </tr>\n",
              "  </tbody>\n",
              "</table>\n",
              "</div>\n",
              "      <button class=\"colab-df-convert\" onclick=\"convertToInteractive('df-47a726bf-9c86-4860-a107-6a6950788aca')\"\n",
              "              title=\"Convert this dataframe to an interactive table.\"\n",
              "              style=\"display:none;\">\n",
              "        \n",
              "  <svg xmlns=\"http://www.w3.org/2000/svg\" height=\"24px\"viewBox=\"0 0 24 24\"\n",
              "       width=\"24px\">\n",
              "    <path d=\"M0 0h24v24H0V0z\" fill=\"none\"/>\n",
              "    <path d=\"M18.56 5.44l.94 2.06.94-2.06 2.06-.94-2.06-.94-.94-2.06-.94 2.06-2.06.94zm-11 1L8.5 8.5l.94-2.06 2.06-.94-2.06-.94L8.5 2.5l-.94 2.06-2.06.94zm10 10l.94 2.06.94-2.06 2.06-.94-2.06-.94-.94-2.06-.94 2.06-2.06.94z\"/><path d=\"M17.41 7.96l-1.37-1.37c-.4-.4-.92-.59-1.43-.59-.52 0-1.04.2-1.43.59L10.3 9.45l-7.72 7.72c-.78.78-.78 2.05 0 2.83L4 21.41c.39.39.9.59 1.41.59.51 0 1.02-.2 1.41-.59l7.78-7.78 2.81-2.81c.8-.78.8-2.07 0-2.86zM5.41 20L4 18.59l7.72-7.72 1.47 1.35L5.41 20z\"/>\n",
              "  </svg>\n",
              "      </button>\n",
              "      \n",
              "  <style>\n",
              "    .colab-df-container {\n",
              "      display:flex;\n",
              "      flex-wrap:wrap;\n",
              "      gap: 12px;\n",
              "    }\n",
              "\n",
              "    .colab-df-convert {\n",
              "      background-color: #E8F0FE;\n",
              "      border: none;\n",
              "      border-radius: 50%;\n",
              "      cursor: pointer;\n",
              "      display: none;\n",
              "      fill: #1967D2;\n",
              "      height: 32px;\n",
              "      padding: 0 0 0 0;\n",
              "      width: 32px;\n",
              "    }\n",
              "\n",
              "    .colab-df-convert:hover {\n",
              "      background-color: #E2EBFA;\n",
              "      box-shadow: 0px 1px 2px rgba(60, 64, 67, 0.3), 0px 1px 3px 1px rgba(60, 64, 67, 0.15);\n",
              "      fill: #174EA6;\n",
              "    }\n",
              "\n",
              "    [theme=dark] .colab-df-convert {\n",
              "      background-color: #3B4455;\n",
              "      fill: #D2E3FC;\n",
              "    }\n",
              "\n",
              "    [theme=dark] .colab-df-convert:hover {\n",
              "      background-color: #434B5C;\n",
              "      box-shadow: 0px 1px 3px 1px rgba(0, 0, 0, 0.15);\n",
              "      filter: drop-shadow(0px 1px 2px rgba(0, 0, 0, 0.3));\n",
              "      fill: #FFFFFF;\n",
              "    }\n",
              "  </style>\n",
              "\n",
              "      <script>\n",
              "        const buttonEl =\n",
              "          document.querySelector('#df-47a726bf-9c86-4860-a107-6a6950788aca button.colab-df-convert');\n",
              "        buttonEl.style.display =\n",
              "          google.colab.kernel.accessAllowed ? 'block' : 'none';\n",
              "\n",
              "        async function convertToInteractive(key) {\n",
              "          const element = document.querySelector('#df-47a726bf-9c86-4860-a107-6a6950788aca');\n",
              "          const dataTable =\n",
              "            await google.colab.kernel.invokeFunction('convertToInteractive',\n",
              "                                                     [key], {});\n",
              "          if (!dataTable) return;\n",
              "\n",
              "          const docLinkHtml = 'Like what you see? Visit the ' +\n",
              "            '<a target=\"_blank\" href=https://colab.research.google.com/notebooks/data_table.ipynb>data table notebook</a>'\n",
              "            + ' to learn more about interactive tables.';\n",
              "          element.innerHTML = '';\n",
              "          dataTable['output_type'] = 'display_data';\n",
              "          await google.colab.output.renderOutput(dataTable, element);\n",
              "          const docLink = document.createElement('div');\n",
              "          docLink.innerHTML = docLinkHtml;\n",
              "          element.appendChild(docLink);\n",
              "        }\n",
              "      </script>\n",
              "    </div>\n",
              "  </div>\n",
              "  "
            ]
          },
          "metadata": {},
          "execution_count": 4
        }
      ]
    },
    {
      "cell_type": "code",
      "source": [
        "df=df.fillna(0)\n",
        "df.head()"
      ],
      "metadata": {
        "id": "xF9PUqLgezRc",
        "colab": {
          "base_uri": "https://localhost:8080/",
          "height": 441
        },
        "outputId": "a2d64af5-4201-448c-dd4e-66a9fc2257f3"
      },
      "execution_count": 5,
      "outputs": [
        {
          "output_type": "execute_result",
          "data": {
            "text/plain": [
              "        ROLLNO              NAME                                 College Name  \\\n",
              "0  12005518004   Suranjana Dutta  DR. B. C. ROY ENGINEERING COLLEGE, DURGAPUR   \n",
              "1  12005519001       RITIKA SHAW  DR. B. C. ROY ENGINEERING COLLEGE, DURGAPUR   \n",
              "2  12005519002      SUMAN KUMARI  DR. B. C. ROY ENGINEERING COLLEGE, DURGAPUR   \n",
              "3  12005519003       SUJAL KUMAR  DR. B. C. ROY ENGINEERING COLLEGE, DURGAPUR   \n",
              "4  12005519004  MD SHAHBAZ AHMAD  DR. B. C. ROY ENGINEERING COLLEGE, DURGAPUR   \n",
              "\n",
              "                                            Semester  \\\n",
              "0  FIRST YEAR FIRST SEMESTER EXAMINATION OF 2019-...   \n",
              "1  FIRST YEAR FIRST SEMESTER EXAMINATION OF 2019-...   \n",
              "2  FIRST YEAR FIRST SEMESTER EXAMINATION OF 2019-...   \n",
              "3  FIRST YEAR FIRST SEMESTER EXAMINATION OF 2019-...   \n",
              "4  FIRST YEAR FIRST SEMESTER EXAMINATION OF 2019-...   \n",
              "\n",
              "                                              Degree  BSCH101   BSM102  \\\n",
              "0  Bachelor of Technology in Applied Electronics ...  D(20.0)  D(20.0)   \n",
              "1  Bachelor of Technology in Applied Electronics ...  D(20.0)  D(20.0)   \n",
              "2  Bachelor of Technology in Applied Electronics ...  D(20.0)  D(20.0)   \n",
              "3  Bachelor of Technology in Applied Electronics ...   F(8.0)   F(8.0)   \n",
              "4  Bachelor of Technology in Applied Electronics ...   F(8.0)   F(8.0)   \n",
              "\n",
              "   ESEE101  BSCH191 ESEE191  ESME191 Unnamed: 11 Unnamed: 12 Unnamed: 13  \\\n",
              "0  D(20.0)  B(10.5)  E(9.0)  C(18.0)           0           0           0   \n",
              "1  D(20.0)  A(12.0)  E(9.0)  E(27.0)           0           0           0   \n",
              "2  D(20.0)  A(12.0)  A(8.0)  A(24.0)           0           0           0   \n",
              "3  C(24.0)  A(12.0)  E(9.0)  A(24.0)           0           0           0   \n",
              "4  D(20.0)  B(10.5)  E(9.0)  A(24.0)           0           0           0   \n",
              "\n",
              "  Unnamed: 14  SGPA  \n",
              "0           0  5.57  \n",
              "1           0  6.17  \n",
              "2           0  5.94  \n",
              "3           0     0  \n",
              "4           0     0  "
            ],
            "text/html": [
              "\n",
              "  <div id=\"df-1f8cb6ba-073f-4b98-a33f-3cf9b6c836d3\">\n",
              "    <div class=\"colab-df-container\">\n",
              "      <div>\n",
              "<style scoped>\n",
              "    .dataframe tbody tr th:only-of-type {\n",
              "        vertical-align: middle;\n",
              "    }\n",
              "\n",
              "    .dataframe tbody tr th {\n",
              "        vertical-align: top;\n",
              "    }\n",
              "\n",
              "    .dataframe thead th {\n",
              "        text-align: right;\n",
              "    }\n",
              "</style>\n",
              "<table border=\"1\" class=\"dataframe\">\n",
              "  <thead>\n",
              "    <tr style=\"text-align: right;\">\n",
              "      <th></th>\n",
              "      <th>ROLLNO</th>\n",
              "      <th>NAME</th>\n",
              "      <th>College Name</th>\n",
              "      <th>Semester</th>\n",
              "      <th>Degree</th>\n",
              "      <th>BSCH101</th>\n",
              "      <th>BSM102</th>\n",
              "      <th>ESEE101</th>\n",
              "      <th>BSCH191</th>\n",
              "      <th>ESEE191</th>\n",
              "      <th>ESME191</th>\n",
              "      <th>Unnamed: 11</th>\n",
              "      <th>Unnamed: 12</th>\n",
              "      <th>Unnamed: 13</th>\n",
              "      <th>Unnamed: 14</th>\n",
              "      <th>SGPA</th>\n",
              "    </tr>\n",
              "  </thead>\n",
              "  <tbody>\n",
              "    <tr>\n",
              "      <th>0</th>\n",
              "      <td>12005518004</td>\n",
              "      <td>Suranjana Dutta</td>\n",
              "      <td>DR. B. C. ROY ENGINEERING COLLEGE, DURGAPUR</td>\n",
              "      <td>FIRST YEAR FIRST SEMESTER EXAMINATION OF 2019-...</td>\n",
              "      <td>Bachelor of Technology in Applied Electronics ...</td>\n",
              "      <td>D(20.0)</td>\n",
              "      <td>D(20.0)</td>\n",
              "      <td>D(20.0)</td>\n",
              "      <td>B(10.5)</td>\n",
              "      <td>E(9.0)</td>\n",
              "      <td>C(18.0)</td>\n",
              "      <td>0</td>\n",
              "      <td>0</td>\n",
              "      <td>0</td>\n",
              "      <td>0</td>\n",
              "      <td>5.57</td>\n",
              "    </tr>\n",
              "    <tr>\n",
              "      <th>1</th>\n",
              "      <td>12005519001</td>\n",
              "      <td>RITIKA SHAW</td>\n",
              "      <td>DR. B. C. ROY ENGINEERING COLLEGE, DURGAPUR</td>\n",
              "      <td>FIRST YEAR FIRST SEMESTER EXAMINATION OF 2019-...</td>\n",
              "      <td>Bachelor of Technology in Applied Electronics ...</td>\n",
              "      <td>D(20.0)</td>\n",
              "      <td>D(20.0)</td>\n",
              "      <td>D(20.0)</td>\n",
              "      <td>A(12.0)</td>\n",
              "      <td>E(9.0)</td>\n",
              "      <td>E(27.0)</td>\n",
              "      <td>0</td>\n",
              "      <td>0</td>\n",
              "      <td>0</td>\n",
              "      <td>0</td>\n",
              "      <td>6.17</td>\n",
              "    </tr>\n",
              "    <tr>\n",
              "      <th>2</th>\n",
              "      <td>12005519002</td>\n",
              "      <td>SUMAN KUMARI</td>\n",
              "      <td>DR. B. C. ROY ENGINEERING COLLEGE, DURGAPUR</td>\n",
              "      <td>FIRST YEAR FIRST SEMESTER EXAMINATION OF 2019-...</td>\n",
              "      <td>Bachelor of Technology in Applied Electronics ...</td>\n",
              "      <td>D(20.0)</td>\n",
              "      <td>D(20.0)</td>\n",
              "      <td>D(20.0)</td>\n",
              "      <td>A(12.0)</td>\n",
              "      <td>A(8.0)</td>\n",
              "      <td>A(24.0)</td>\n",
              "      <td>0</td>\n",
              "      <td>0</td>\n",
              "      <td>0</td>\n",
              "      <td>0</td>\n",
              "      <td>5.94</td>\n",
              "    </tr>\n",
              "    <tr>\n",
              "      <th>3</th>\n",
              "      <td>12005519003</td>\n",
              "      <td>SUJAL KUMAR</td>\n",
              "      <td>DR. B. C. ROY ENGINEERING COLLEGE, DURGAPUR</td>\n",
              "      <td>FIRST YEAR FIRST SEMESTER EXAMINATION OF 2019-...</td>\n",
              "      <td>Bachelor of Technology in Applied Electronics ...</td>\n",
              "      <td>F(8.0)</td>\n",
              "      <td>F(8.0)</td>\n",
              "      <td>C(24.0)</td>\n",
              "      <td>A(12.0)</td>\n",
              "      <td>E(9.0)</td>\n",
              "      <td>A(24.0)</td>\n",
              "      <td>0</td>\n",
              "      <td>0</td>\n",
              "      <td>0</td>\n",
              "      <td>0</td>\n",
              "      <td>0</td>\n",
              "    </tr>\n",
              "    <tr>\n",
              "      <th>4</th>\n",
              "      <td>12005519004</td>\n",
              "      <td>MD SHAHBAZ AHMAD</td>\n",
              "      <td>DR. B. C. ROY ENGINEERING COLLEGE, DURGAPUR</td>\n",
              "      <td>FIRST YEAR FIRST SEMESTER EXAMINATION OF 2019-...</td>\n",
              "      <td>Bachelor of Technology in Applied Electronics ...</td>\n",
              "      <td>F(8.0)</td>\n",
              "      <td>F(8.0)</td>\n",
              "      <td>D(20.0)</td>\n",
              "      <td>B(10.5)</td>\n",
              "      <td>E(9.0)</td>\n",
              "      <td>A(24.0)</td>\n",
              "      <td>0</td>\n",
              "      <td>0</td>\n",
              "      <td>0</td>\n",
              "      <td>0</td>\n",
              "      <td>0</td>\n",
              "    </tr>\n",
              "  </tbody>\n",
              "</table>\n",
              "</div>\n",
              "      <button class=\"colab-df-convert\" onclick=\"convertToInteractive('df-1f8cb6ba-073f-4b98-a33f-3cf9b6c836d3')\"\n",
              "              title=\"Convert this dataframe to an interactive table.\"\n",
              "              style=\"display:none;\">\n",
              "        \n",
              "  <svg xmlns=\"http://www.w3.org/2000/svg\" height=\"24px\"viewBox=\"0 0 24 24\"\n",
              "       width=\"24px\">\n",
              "    <path d=\"M0 0h24v24H0V0z\" fill=\"none\"/>\n",
              "    <path d=\"M18.56 5.44l.94 2.06.94-2.06 2.06-.94-2.06-.94-.94-2.06-.94 2.06-2.06.94zm-11 1L8.5 8.5l.94-2.06 2.06-.94-2.06-.94L8.5 2.5l-.94 2.06-2.06.94zm10 10l.94 2.06.94-2.06 2.06-.94-2.06-.94-.94-2.06-.94 2.06-2.06.94z\"/><path d=\"M17.41 7.96l-1.37-1.37c-.4-.4-.92-.59-1.43-.59-.52 0-1.04.2-1.43.59L10.3 9.45l-7.72 7.72c-.78.78-.78 2.05 0 2.83L4 21.41c.39.39.9.59 1.41.59.51 0 1.02-.2 1.41-.59l7.78-7.78 2.81-2.81c.8-.78.8-2.07 0-2.86zM5.41 20L4 18.59l7.72-7.72 1.47 1.35L5.41 20z\"/>\n",
              "  </svg>\n",
              "      </button>\n",
              "      \n",
              "  <style>\n",
              "    .colab-df-container {\n",
              "      display:flex;\n",
              "      flex-wrap:wrap;\n",
              "      gap: 12px;\n",
              "    }\n",
              "\n",
              "    .colab-df-convert {\n",
              "      background-color: #E8F0FE;\n",
              "      border: none;\n",
              "      border-radius: 50%;\n",
              "      cursor: pointer;\n",
              "      display: none;\n",
              "      fill: #1967D2;\n",
              "      height: 32px;\n",
              "      padding: 0 0 0 0;\n",
              "      width: 32px;\n",
              "    }\n",
              "\n",
              "    .colab-df-convert:hover {\n",
              "      background-color: #E2EBFA;\n",
              "      box-shadow: 0px 1px 2px rgba(60, 64, 67, 0.3), 0px 1px 3px 1px rgba(60, 64, 67, 0.15);\n",
              "      fill: #174EA6;\n",
              "    }\n",
              "\n",
              "    [theme=dark] .colab-df-convert {\n",
              "      background-color: #3B4455;\n",
              "      fill: #D2E3FC;\n",
              "    }\n",
              "\n",
              "    [theme=dark] .colab-df-convert:hover {\n",
              "      background-color: #434B5C;\n",
              "      box-shadow: 0px 1px 3px 1px rgba(0, 0, 0, 0.15);\n",
              "      filter: drop-shadow(0px 1px 2px rgba(0, 0, 0, 0.3));\n",
              "      fill: #FFFFFF;\n",
              "    }\n",
              "  </style>\n",
              "\n",
              "      <script>\n",
              "        const buttonEl =\n",
              "          document.querySelector('#df-1f8cb6ba-073f-4b98-a33f-3cf9b6c836d3 button.colab-df-convert');\n",
              "        buttonEl.style.display =\n",
              "          google.colab.kernel.accessAllowed ? 'block' : 'none';\n",
              "\n",
              "        async function convertToInteractive(key) {\n",
              "          const element = document.querySelector('#df-1f8cb6ba-073f-4b98-a33f-3cf9b6c836d3');\n",
              "          const dataTable =\n",
              "            await google.colab.kernel.invokeFunction('convertToInteractive',\n",
              "                                                     [key], {});\n",
              "          if (!dataTable) return;\n",
              "\n",
              "          const docLinkHtml = 'Like what you see? Visit the ' +\n",
              "            '<a target=\"_blank\" href=https://colab.research.google.com/notebooks/data_table.ipynb>data table notebook</a>'\n",
              "            + ' to learn more about interactive tables.';\n",
              "          element.innerHTML = '';\n",
              "          dataTable['output_type'] = 'display_data';\n",
              "          await google.colab.output.renderOutput(dataTable, element);\n",
              "          const docLink = document.createElement('div');\n",
              "          docLink.innerHTML = docLinkHtml;\n",
              "          element.appendChild(docLink);\n",
              "        }\n",
              "      </script>\n",
              "    </div>\n",
              "  </div>\n",
              "  "
            ]
          },
          "metadata": {},
          "execution_count": 5
        }
      ]
    },
    {
      "cell_type": "code",
      "source": [
        "df.rename(columns = {'BSCH101':'Subject 1',\t'BSM102':'Subject 2',\t'ESEE101':'Subject 3',\t'BSCH191':'Subject 4',\t'ESEE191':'Subject 5','ESME191':'Subject 6','Unnamed: 11':'Subject 7','Unnamed: 12':'Subject 8','Unnamed: 13':'Subject 9','Unnamed: 14':'Subject 10'}, inplace = True)"
      ],
      "metadata": {
        "id": "BVWTqScugQX1"
      },
      "execution_count": 6,
      "outputs": []
    },
    {
      "cell_type": "code",
      "source": [
        "df['Subject 1']=df['Subject 1'].str.replace(r'[^0-9]', '')\n",
        "df['Subject 2']=df['Subject 2'].str.replace(r'[^0-9]', '')\n",
        "df['Subject 3']=df['Subject 3'].str.replace(r'[^0-9]', '')\n",
        "df['Subject 4']=df['Subject 4'].str.replace(r'[^0-9]', '')\n",
        "df['Subject 5']=df['Subject 5'].str.replace(r'[^0-9]', '')\n",
        "df['Subject 6']=df['Subject 6'].str.replace(r'[^0-9]', '')\n",
        "df['Subject 7']=df['Subject 7'].str.replace(r'[^0-9]', '')\n",
        "df['Subject 8']=df['Subject 8'].str.replace(r'[^0-9]', '')\n",
        "df['Subject 9']=df['Subject 9'].str.replace(r'[^0-9]', '')\n",
        "df['Subject 10']=df['Subject 10'].str.replace(r'[^0-9]', '')\n",
        "\n"
      ],
      "metadata": {
        "colab": {
          "base_uri": "https://localhost:8080/"
        },
        "id": "Ujk5mQI5nMSe",
        "outputId": "681bf01f-7ade-4192-eac4-d261a6224d56"
      },
      "execution_count": 7,
      "outputs": [
        {
          "output_type": "stream",
          "name": "stderr",
          "text": [
            "/usr/local/lib/python3.7/dist-packages/ipykernel_launcher.py:1: FutureWarning: The default value of regex will change from True to False in a future version.\n",
            "  \"\"\"Entry point for launching an IPython kernel.\n",
            "/usr/local/lib/python3.7/dist-packages/ipykernel_launcher.py:2: FutureWarning: The default value of regex will change from True to False in a future version.\n",
            "  \n",
            "/usr/local/lib/python3.7/dist-packages/ipykernel_launcher.py:3: FutureWarning: The default value of regex will change from True to False in a future version.\n",
            "  This is separate from the ipykernel package so we can avoid doing imports until\n",
            "/usr/local/lib/python3.7/dist-packages/ipykernel_launcher.py:4: FutureWarning: The default value of regex will change from True to False in a future version.\n",
            "  after removing the cwd from sys.path.\n",
            "/usr/local/lib/python3.7/dist-packages/ipykernel_launcher.py:5: FutureWarning: The default value of regex will change from True to False in a future version.\n",
            "  \"\"\"\n",
            "/usr/local/lib/python3.7/dist-packages/ipykernel_launcher.py:6: FutureWarning: The default value of regex will change from True to False in a future version.\n",
            "  \n",
            "/usr/local/lib/python3.7/dist-packages/ipykernel_launcher.py:7: FutureWarning: The default value of regex will change from True to False in a future version.\n",
            "  import sys\n",
            "/usr/local/lib/python3.7/dist-packages/ipykernel_launcher.py:8: FutureWarning: The default value of regex will change from True to False in a future version.\n",
            "  \n",
            "/usr/local/lib/python3.7/dist-packages/ipykernel_launcher.py:9: FutureWarning: The default value of regex will change from True to False in a future version.\n",
            "  if __name__ == '__main__':\n",
            "/usr/local/lib/python3.7/dist-packages/ipykernel_launcher.py:10: FutureWarning: The default value of regex will change from True to False in a future version.\n",
            "  # Remove the CWD from sys.path while we load stuff.\n"
          ]
        }
      ]
    },
    {
      "cell_type": "code",
      "source": [
        "df = df[df[\"ROLLNO\"].str.contains(\"ROLLNO\") ==False]"
      ],
      "metadata": {
        "id": "uU5P6Eughx52"
      },
      "execution_count": 8,
      "outputs": []
    },
    {
      "cell_type": "code",
      "source": [
        "import matplotlib.pyplot as plt\n",
        "%matplotlib inline"
      ],
      "metadata": {
        "id": "RB51EXERoefH"
      },
      "execution_count": 9,
      "outputs": []
    },
    {
      "cell_type": "code",
      "source": [
        "#plt.pie(#df['Degree'].value_counts())\n",
        "print(\"Distribution of students degree wise:\")\n",
        "df['Degree'].value_counts()"
      ],
      "metadata": {
        "colab": {
          "base_uri": "https://localhost:8080/"
        },
        "id": "NJcnJ0nvoh7O",
        "outputId": "19b3352f-b4ba-4b9b-d390-c5db7f16bbcd"
      },
      "execution_count": 10,
      "outputs": [
        {
          "output_type": "stream",
          "name": "stdout",
          "text": [
            "Distribution of students degree wise:\n"
          ]
        },
        {
          "output_type": "execute_result",
          "data": {
            "text/plain": [
              "Bachelor of Technology in Computer Science & Engineering                       157\n",
              "Bachelor of Technology in Electronics & Communication Engineering              157\n",
              "Bachelor of Technology in Electrical Engineering                               133\n",
              "Bachelor of Technology in Mechanical Engineering                                99\n",
              "Bachelor of Technology in Information Technology                                76\n",
              "Master of Business Administration                                               65\n",
              "Bachelor of Technology in Civil Engineering                                     63\n",
              "Master of Computer Applications                                                 26\n",
              "Bachelor of Technology in Applied Electronics & Instrumentation Engineering     17\n",
              "Master of Technology in Mechanical Engineering                                   4\n",
              "Master of Technology in Computer Science & Engg                                  3\n",
              "Master of Technology in Power Systems Engineering                                2\n",
              "M.Tech in Electronics & Communication Engg.                                      1\n",
              "Name: Degree, dtype: int64"
            ]
          },
          "metadata": {},
          "execution_count": 10
        }
      ]
    },
    {
      "cell_type": "code",
      "source": [
        "degree_array=df['Degree'].unique()"
      ],
      "metadata": {
        "id": "y6IGnvcAzewI"
      },
      "execution_count": 11,
      "outputs": []
    },
    {
      "cell_type": "code",
      "source": [
        "for i in degree_array:\n",
        "  print(i)"
      ],
      "metadata": {
        "colab": {
          "base_uri": "https://localhost:8080/"
        },
        "id": "I6VJ00DV2gEh",
        "outputId": "4a3ec102-3b1d-4aea-f53d-3b8730d2ead6"
      },
      "execution_count": 12,
      "outputs": [
        {
          "output_type": "stream",
          "name": "stdout",
          "text": [
            "Bachelor of Technology in Applied Electronics & Instrumentation Engineering\n",
            "Bachelor of Technology in Civil Engineering\n",
            "Bachelor of Technology in Computer Science & Engineering\n",
            "Bachelor of Technology in Electrical Engineering\n",
            "Bachelor of Technology in Electronics & Communication Engineering\n",
            "Bachelor of Technology in Information Technology\n",
            "Bachelor of Technology in Mechanical Engineering\n",
            "M.Tech in Electronics & Communication Engg.\n",
            "Master of Business Administration\n",
            "Master of Computer Applications\n",
            "Master of Technology in Computer Science & Engg\n",
            "Master of Technology in Mechanical Engineering\n",
            "Master of Technology in Power Systems Engineering\n"
          ]
        }
      ]
    },
    {
      "cell_type": "markdown",
      "source": [
        "# Distribution of students across different streams:"
      ],
      "metadata": {
        "id": "JBVEq2NVQK68"
      }
    },
    {
      "cell_type": "code",
      "source": [
        "y=df['Degree'].value_counts()\n",
        "y.plot(kind=\"barh\")\n",
        "#plt.barh(degree_array,y)\n",
        "for index, value in enumerate(y):\n",
        "    plt.text(value, index, str(value))"
      ],
      "metadata": {
        "colab": {
          "base_uri": "https://localhost:8080/",
          "height": 265
        },
        "id": "1jK2GN8GyuTh",
        "outputId": "e94ea8c1-794a-4069-80ff-2d43a3ce7f79"
      },
      "execution_count": 13,
      "outputs": [
        {
          "output_type": "display_data",
          "data": {
            "text/plain": [
              "<Figure size 432x288 with 1 Axes>"
            ],
            "image/png": "[encoded data removed]"
          },
          "metadata": {
            "needs_background": "light"
          }
        }
      ]
    },
    {
      "cell_type": "markdown",
      "source": [
        "# Top 3 students csv file generation:\n"
      ],
      "metadata": {
        "id": "z4jp3530PhKk"
      }
    },
    {
      "cell_type": "code",
      "source": [
        "df6=pd.DataFrame()\n",
        "df['SGPA']=df['SGPA'].astype(float)\n",
        "for i in degree_array:\n",
        "  top=df[df['Degree']==i]\n",
        "  x=top.nlargest(3,columns=['SGPA'],keep='first')\n",
        "  # print(x[[' NAME','SGPA']])\n",
        "  # new_row = {'NAME':x[[' NAME']], 'Degree':x[['Degree']], 'SGPA':x[['SGPA']]}\n",
        "  df6 = df6.append(x, ignore_index=True)\n",
        "\n",
        "df6.to_csv(\"/content/drive/MyDrive/MLDatasets/top3students.csv\")"
      ],
      "metadata": {
        "id": "rp_NbTN9425_"
      },
      "execution_count": 14,
      "outputs": []
    },
    {
      "cell_type": "markdown",
      "source": [
        "# Branch wise SGPA analysis:"
      ],
      "metadata": {
        "id": "YfGy-ysBPtPD"
      }
    },
    {
      "cell_type": "code",
      "source": [
        "import numpy as np\n",
        "g=df.groupby('Degree')\n",
        "for degree,degree_df in g:\n",
        "  print(degree,\":-\",end=\"\\n\\n\")\n",
        "  print(\"Number of Students passed:\",sum(degree_df['SGPA'] >= 5))\n",
        "  print(\"Number of Students failed:\",sum(degree_df['SGPA'] < 5),end=\"\\n\\n\")\n",
        "  print(\"Students scoring 10 SGPA:\",((degree_df['SGPA']==10)).sum())\n",
        "  print(\"Students scoring between 9 SGPA and 10 SGPA:\",((degree_df['SGPA'] >= 9)&(degree_df['SGPA']<10)).sum())\n",
        "  print(\"Students scoring between 8 SGPA to 9 SGPA:\",((degree_df['SGPA'] >= 8)&(degree_df['SGPA']<9)).sum())\n",
        "  print(\"Students scoring between 7 SGPA to 8 SGPA:\",((degree_df['SGPA'] >= 7)&(degree_df['SGPA']<8)).sum())\n",
        "  print(\"Students scoring between 6 SGPA to 7 SGPA:\",((degree_df['SGPA'] >= 6)&(degree_df['SGPA']<7)).sum())\n",
        "  print(\"Students scoring between 5 SGPA to 4 SGPA:\",((degree_df['SGPA'] >= 5)&(degree_df['SGPA']<6)).sum())\n",
        "  print(\"Students scoring less than 5 SGPA:\",sum(degree_df['SGPA'] <5),end=\"\\n\\n\")\n",
        "  y = np.array([((degree_df['SGPA']==10)).sum(), ((degree_df['SGPA'] >= 9)&(degree_df['SGPA']<10)).sum(),\n",
        "              ((degree_df['SGPA'] >= 8)&(degree_df['SGPA']<9)).sum(),((degree_df['SGPA'] >= 7)&(degree_df['SGPA']<8)).sum(),\n",
        "              ((degree_df['SGPA'] >= 6)&(degree_df['SGPA']<7)).sum(),((degree_df['SGPA'] >= 5)&(degree_df['SGPA']<6)).sum(),sum(degree_df['SGPA'] <5)])\n",
        "  x = np.array([\"10\",\"9-10\",\"8-9\",\"7-8\",\"6-7\",\"5-6\",\"less than 5\"])\n",
        "  plt.xlabel(\"SGPA of student\")\n",
        "  plt.ylabel(\"Number of students\")\n",
        "  plt.bar(x, y, width = 0.5)\n",
        "  plt.show()"
      ],
      "metadata": {
        "colab": {
          "base_uri": "https://localhost:8080/",
          "height": 1000
        },
        "id": "Q4SAYxJIO-gE",
        "outputId": "7edde1d6-ae6a-4b2f-c954-c4fc1c616f5b"
      },
      "execution_count": 15,
      "outputs": [
        {
          "output_type": "stream",
          "name": "stdout",
          "text": [
            "Bachelor of Technology in Applied Electronics & Instrumentation Engineering :-\n",
            "\n",
            "Number of Students passed: 10\n",
            "Number of Students failed: 7\n",
            "\n",
            "Students scoring 10 SGPA: 0\n",
            "Students scoring between 9 SGPA and 10 SGPA: 0\n",
            "Students scoring between 8 SGPA to 9 SGPA: 0\n",
            "Students scoring between 7 SGPA to 8 SGPA: 3\n",
            "Students scoring between 6 SGPA to 7 SGPA: 5\n",
            "Students scoring between 5 SGPA to 4 SGPA: 2\n",
            "Students scoring less than 5 SGPA: 7\n",
            "\n"
          ]
        },
        {
          "output_type": "display_data",
          "data": {
            "text/plain": [
              "<Figure size 432x288 with 1 Axes>"
            ],
            "image/png": "[encoded data removed]"
          },
          "metadata": {
            "needs_background": "light"
          }
        },
        {
          "output_type": "stream",
          "name": "stdout",
          "text": [
            "Bachelor of Technology in Civil Engineering :-\n",
            "\n",
            "Number of Students passed: 33\n",
            "Number of Students failed: 30\n",
            "\n",
            "Students scoring 10 SGPA: 0\n",
            "Students scoring between 9 SGPA and 10 SGPA: 0\n",
            "Students scoring between 8 SGPA to 9 SGPA: 3\n",
            "Students scoring between 7 SGPA to 8 SGPA: 7\n",
            "Students scoring between 6 SGPA to 7 SGPA: 22\n",
            "Students scoring between 5 SGPA to 4 SGPA: 1\n",
            "Students scoring less than 5 SGPA: 30\n",
            "\n"
          ]
        },
        {
          "output_type": "display_data",
          "data": {
            "text/plain": [
              "<Figure size 432x288 with 1 Axes>"
            ],
            "image/png": "[encoded data removed]"
          },
          "metadata": {
            "needs_background": "light"
          }
        },
        {
          "output_type": "stream",
          "name": "stdout",
          "text": [
            "Bachelor of Technology in Computer Science & Engineering :-\n",
            "\n",
            "Number of Students passed: 120\n",
            "Number of Students failed: 37\n",
            "\n",
            "Students scoring 10 SGPA: 0\n",
            "Students scoring between 9 SGPA and 10 SGPA: 5\n",
            "Students scoring between 8 SGPA to 9 SGPA: 15\n",
            "Students scoring between 7 SGPA to 8 SGPA: 52\n",
            "Students scoring between 6 SGPA to 7 SGPA: 45\n",
            "Students scoring between 5 SGPA to 4 SGPA: 3\n",
            "Students scoring less than 5 SGPA: 37\n",
            "\n"
          ]
        },
        {
          "output_type": "display_data",
          "data": {
            "text/plain": [
              "<Figure size 432x288 with 1 Axes>"
            ],
            "image/png": "[encoded data removed]"
          },
          "metadata": {
            "needs_background": "light"
          }
        },
        {
          "output_type": "stream",
          "name": "stdout",
          "text": [
            "Bachelor of Technology in Electrical Engineering :-\n",
            "\n",
            "Number of Students passed: 90\n",
            "Number of Students failed: 43\n",
            "\n",
            "Students scoring 10 SGPA: 0\n",
            "Students scoring between 9 SGPA and 10 SGPA: 1\n",
            "Students scoring between 8 SGPA to 9 SGPA: 7\n",
            "Students scoring between 7 SGPA to 8 SGPA: 33\n",
            "Students scoring between 6 SGPA to 7 SGPA: 46\n",
            "Students scoring between 5 SGPA to 4 SGPA: 3\n",
            "Students scoring less than 5 SGPA: 43\n",
            "\n"
          ]
        },
        {
          "output_type": "display_data",
          "data": {
            "text/plain": [
              "<Figure size 432x288 with 1 Axes>"
            ],
            "image/png": "[encoded data removed]"
          },
          "metadata": {
            "needs_background": "light"
          }
        },
        {
          "output_type": "stream",
          "name": "stdout",
          "text": [
            "Bachelor of Technology in Electronics & Communication Engineering :-\n",
            "\n",
            "Number of Students passed: 126\n",
            "Number of Students failed: 31\n",
            "\n",
            "Students scoring 10 SGPA: 0\n",
            "Students scoring between 9 SGPA and 10 SGPA: 1\n",
            "Students scoring between 8 SGPA to 9 SGPA: 10\n",
            "Students scoring between 7 SGPA to 8 SGPA: 39\n",
            "Students scoring between 6 SGPA to 7 SGPA: 67\n",
            "Students scoring between 5 SGPA to 4 SGPA: 9\n",
            "Students scoring less than 5 SGPA: 31\n",
            "\n"
          ]
        },
        {
          "output_type": "display_data",
          "data": {
            "text/plain": [
              "<Figure size 432x288 with 1 Axes>"
            ],
            "image/png": "[encoded data removed]"
          },
          "metadata": {
            "needs_background": "light"
          }
        },
        {
          "output_type": "stream",
          "name": "stdout",
          "text": [
            "Bachelor of Technology in Information Technology :-\n",
            "\n",
            "Number of Students passed: 63\n",
            "Number of Students failed: 13\n",
            "\n",
            "Students scoring 10 SGPA: 0\n",
            "Students scoring between 9 SGPA and 10 SGPA: 1\n",
            "Students scoring between 8 SGPA to 9 SGPA: 9\n",
            "Students scoring between 7 SGPA to 8 SGPA: 23\n",
            "Students scoring between 6 SGPA to 7 SGPA: 29\n",
            "Students scoring between 5 SGPA to 4 SGPA: 1\n",
            "Students scoring less than 5 SGPA: 13\n",
            "\n"
          ]
        },
        {
          "output_type": "display_data",
          "data": {
            "text/plain": [
              "<Figure size 432x288 with 1 Axes>"
            ],
            "image/png": "[encoded data removed]"
          },
          "metadata": {
            "needs_background": "light"
          }
        },
        {
          "output_type": "stream",
          "name": "stdout",
          "text": [
            "Bachelor of Technology in Mechanical Engineering :-\n",
            "\n",
            "Number of Students passed: 61\n",
            "Number of Students failed: 38\n",
            "\n",
            "Students scoring 10 SGPA: 0\n",
            "Students scoring between 9 SGPA and 10 SGPA: 0\n",
            "Students scoring between 8 SGPA to 9 SGPA: 2\n",
            "Students scoring between 7 SGPA to 8 SGPA: 20\n",
            "Students scoring between 6 SGPA to 7 SGPA: 32\n",
            "Students scoring between 5 SGPA to 4 SGPA: 7\n",
            "Students scoring less than 5 SGPA: 38\n",
            "\n"
          ]
        },
        {
          "output_type": "display_data",
          "data": {
            "text/plain": [
              "<Figure size 432x288 with 1 Axes>"
            ],
            "image/png": "[encoded data removed]"
          },
          "metadata": {
            "needs_background": "light"
          }
        },
        {
          "output_type": "stream",
          "name": "stdout",
          "text": [
            "M.Tech in Electronics & Communication Engg. :-\n",
            "\n",
            "Number of Students passed: 1\n",
            "Number of Students failed: 0\n",
            "\n",
            "Students scoring 10 SGPA: 0\n",
            "Students scoring between 9 SGPA and 10 SGPA: 0\n",
            "Students scoring between 8 SGPA to 9 SGPA: 0\n",
            "Students scoring between 7 SGPA to 8 SGPA: 0\n",
            "Students scoring between 6 SGPA to 7 SGPA: 1\n",
            "Students scoring between 5 SGPA to 4 SGPA: 0\n",
            "Students scoring less than 5 SGPA: 0\n",
            "\n"
          ]
        },
        {
          "output_type": "display_data",
          "data": {
            "text/plain": [
              "<Figure size 432x288 with 1 Axes>"
            ],
            "image/png": "[encoded data removed]"
          },
          "metadata": {
            "needs_background": "light"
          }
        },
        {
          "output_type": "stream",
          "name": "stdout",
          "text": [
            "Master of Business Administration :-\n",
            "\n",
            "Number of Students passed: 55\n",
            "Number of Students failed: 10\n",
            "\n",
            "Students scoring 10 SGPA: 0\n",
            "Students scoring between 9 SGPA and 10 SGPA: 0\n",
            "Students scoring between 8 SGPA to 9 SGPA: 10\n",
            "Students scoring between 7 SGPA to 8 SGPA: 25\n",
            "Students scoring between 6 SGPA to 7 SGPA: 15\n",
            "Students scoring between 5 SGPA to 4 SGPA: 5\n",
            "Students scoring less than 5 SGPA: 10\n",
            "\n"
          ]
        },
        {
          "output_type": "display_data",
          "data": {
            "text/plain": [
              "<Figure size 432x288 with 1 Axes>"
            ],
            "image/png": "[encoded data removed]"
          },
          "metadata": {
            "needs_background": "light"
          }
        },
        {
          "output_type": "stream",
          "name": "stdout",
          "text": [
            "Master of Computer Applications :-\n",
            "\n",
            "Number of Students passed: 23\n",
            "Number of Students failed: 3\n",
            "\n",
            "Students scoring 10 SGPA: 0\n",
            "Students scoring between 9 SGPA and 10 SGPA: 1\n",
            "Students scoring between 8 SGPA to 9 SGPA: 8\n",
            "Students scoring between 7 SGPA to 8 SGPA: 10\n",
            "Students scoring between 6 SGPA to 7 SGPA: 4\n",
            "Students scoring between 5 SGPA to 4 SGPA: 0\n",
            "Students scoring less than 5 SGPA: 3\n",
            "\n"
          ]
        },
        {
          "output_type": "display_data",
          "data": {
            "text/plain": [
              "<Figure size 432x288 with 1 Axes>"
            ],
            "image/png": "[encoded data removed]"
          },
          "metadata": {
            "needs_background": "light"
          }
        },
        {
          "output_type": "stream",
          "name": "stdout",
          "text": [
            "Master of Technology in Computer Science & Engg :-\n",
            "\n",
            "Number of Students passed: 2\n",
            "Number of Students failed: 1\n",
            "\n",
            "Students scoring 10 SGPA: 0\n",
            "Students scoring between 9 SGPA and 10 SGPA: 0\n",
            "Students scoring between 8 SGPA to 9 SGPA: 2\n",
            "Students scoring between 7 SGPA to 8 SGPA: 0\n",
            "Students scoring between 6 SGPA to 7 SGPA: 0\n",
            "Students scoring between 5 SGPA to 4 SGPA: 0\n",
            "Students scoring less than 5 SGPA: 1\n",
            "\n"
          ]
        },
        {
          "output_type": "display_data",
          "data": {
            "text/plain": [
              "<Figure size 432x288 with 1 Axes>"
            ],
            "image/png": "[encoded data removed]"
          },
          "metadata": {
            "needs_background": "light"
          }
        },
        {
          "output_type": "stream",
          "name": "stdout",
          "text": [
            "Master of Technology in Mechanical Engineering :-\n",
            "\n",
            "Number of Students passed: 4\n",
            "Number of Students failed: 0\n",
            "\n",
            "Students scoring 10 SGPA: 0\n",
            "Students scoring between 9 SGPA and 10 SGPA: 2\n",
            "Students scoring between 8 SGPA to 9 SGPA: 1\n",
            "Students scoring between 7 SGPA to 8 SGPA: 1\n",
            "Students scoring between 6 SGPA to 7 SGPA: 0\n",
            "Students scoring between 5 SGPA to 4 SGPA: 0\n",
            "Students scoring less than 5 SGPA: 0\n",
            "\n"
          ]
        },
        {
          "output_type": "display_data",
          "data": {
            "text/plain": [
              "<Figure size 432x288 with 1 Axes>"
            ],
            "image/png": "[encoded data removed]"
          },
          "metadata": {
            "needs_background": "light"
          }
        },
        {
          "output_type": "stream",
          "name": "stdout",
          "text": [
            "Master of Technology in Power Systems Engineering :-\n",
            "\n",
            "Number of Students passed: 2\n",
            "Number of Students failed: 0\n",
            "\n",
            "Students scoring 10 SGPA: 0\n",
            "Students scoring between 9 SGPA and 10 SGPA: 0\n",
            "Students scoring between 8 SGPA to 9 SGPA: 0\n",
            "Students scoring between 7 SGPA to 8 SGPA: 1\n",
            "Students scoring between 6 SGPA to 7 SGPA: 1\n",
            "Students scoring between 5 SGPA to 4 SGPA: 0\n",
            "Students scoring less than 5 SGPA: 0\n",
            "\n"
          ]
        },
        {
          "output_type": "display_data",
          "data": {
            "text/plain": [
              "<Figure size 432x288 with 1 Axes>"
            ],
            "image/png": "[encoded data removed]"
          },
          "metadata": {
            "needs_background": "light"
          }
        }
      ]
    },
    {
      "cell_type": "code",
      "source": [
        "pass_=sum(df['SGPA'] >= 5)\n",
        "fail_=sum(df['SGPA'] <= 5)\n",
        "plt.pie([pass_,fail_],labels=[\"passed\",\"failed\"])"
      ],
      "metadata": {
        "colab": {
          "base_uri": "https://localhost:8080/"
        },
        "id": "fhSx16UXCcra",
        "outputId": "c385143f-6349-487c-cc93-ac42bc7bed7f"
      },
      "execution_count": null,
      "outputs": [
        {
          "output_type": "execute_result",
          "data": {
            "text/plain": [
              "([<matplotlib.patches.Wedge at 0x7f7a9df93150>,\n",
              "  <matplotlib.patches.Wedge at 0x7f7a9df93710>],\n",
              " [Text(-0.7396610553452528, 0.8141876461882402, 'passed'),\n",
              "  Text(0.7396611315749985, -0.8141875769361708, 'failed')])"
            ]
          },
          "metadata": {},
          "execution_count": 50
        },
        {
          "output_type": "display_data",
          "data": {
            "text/plain": [
              "<Figure size 432x288 with 1 Axes>"
            ],
            "image/png": "[encoded data removed]"
          },
          "metadata": {}
        }
      ]
    }
  ]
}